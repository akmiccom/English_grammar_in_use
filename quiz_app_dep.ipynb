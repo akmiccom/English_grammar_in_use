{
 "cells": [
  {
   "cell_type": "code",
   "execution_count": 11,
   "metadata": {},
   "outputs": [],
   "source": [
    "from random import sample, randint\n",
    "from time import sleep\n",
    "import re"
   ]
  },
  {
   "cell_type": "code",
   "execution_count": 12,
   "metadata": {},
   "outputs": [],
   "source": [
    "def question_English(QUESTION_NUM, SLEEP_TIME):\n",
    "\n",
    "    with open('English.md', mode='r', encoding='utf-8') as f:\n",
    "        sentenses = f.read()\n",
    "\n",
    "    questions = []\n",
    "    for s in sentenses.split('\\n'):\n",
    "        if '   ' in s:\n",
    "            tmp_s = re.sub(r'\\d{,2}|', '', s)\n",
    "            text = re.sub(r' \\.', '', tmp_s)\n",
    "            questions.append(text.strip())\n",
    "\n",
    "    for i, s in enumerate(sample(questions, QUESTION_NUM)):\n",
    "        print(f'Q{i+1} : ', s)\n",
    "        sleep(SLEEP_TIME)"
   ]
  },
  {
   "cell_type": "code",
   "execution_count": 13,
   "metadata": {},
   "outputs": [],
   "source": [
    "def question_Japanese(QUESTION_NUM, SLEEP_TIME):\n",
    "\n",
    "    with open('Japanese.md', mode='r', encoding='utf-8') as f:\n",
    "        sentenses = f.read()\n",
    "\n",
    "    questions = []\n",
    "    for s in sentenses.split('\\n'):\n",
    "        if '   ' in s:\n",
    "            tmp_s = re.sub(r'\\d{,2}|', '', s)\n",
    "            text = re.sub(r' \\.', '', tmp_s)\n",
    "            questions.append(text.strip())\n",
    "\n",
    "    for i, s in enumerate(sample(questions, QUESTION_NUM)):\n",
    "        print(f'Q{i+1} : ', s)\n",
    "        sleep(SLEEP_TIME)"
   ]
  },
  {
   "cell_type": "code",
   "execution_count": 14,
   "metadata": {},
   "outputs": [
    {
     "name": "stdout",
     "output_type": "stream",
     "text": [
      "Q1 :  休暇を楽しみました。ホテルはとても良かったです。\n",
      "Q2 :  ソフィアは果物を買いに店に行った。\n",
      "Q3 :  xoo この文が理解できません。この言葉はどういう意味ですか？\n",
      "Q4 :  このカップは汚れています。きれいなのをもらえますか？\n",
      "Q5 :  天気が良さそうです。私は泳ぎに行きます。\n",
      "Q6 :  あなたのお母さんが病気であることを申し訳なく思います。彼女が早く良くなることを願っています。\n",
      "Q7 :  xo ここに座ってもいいですか？もちろん。\n",
      "Q8 :  早起きするのが好きですか？\n",
      "Q9 :  xoxxoo トムはいつ出発しましたか？分前です。\n"
     ]
    }
   ],
   "source": [
    "question_Japanese(QUESTION_NUM=9, SLEEP_TIME=0)"
   ]
  },
  {
   "cell_type": "code",
   "execution_count": 15,
   "metadata": {},
   "outputs": [
    {
     "name": "stdout",
     "output_type": "stream",
     "text": [
      "Q1 :  Is your mother home? No, she's out.\n",
      "Q2 :  When was the telephone invented? I'm not sure. More than  years ago.\n",
      "Q3 :  Tom takes a shower every morning.\n",
      "Q4 :  I was hungry when I got home, but there wasn't anything to eat.\n",
      "Q5 :  I'm going shopping. I'm going to buy some clothes.\n",
      "Q6 :  I like the people here. They are very friendly.\n",
      "Q7 :  Who lives in this house? I don't know.\n",
      "Q8 :  Look, there's Sarah. She's wearing a brown coat.\n",
      "Q9 :  Kate got into the car and drove away.\n"
     ]
    }
   ],
   "source": [
    "question_English(QUESTION_NUM=9, SLEEP_TIME=0)"
   ]
  }
 ],
 "metadata": {
  "kernelspec": {
   "display_name": "Python 3",
   "language": "python",
   "name": "python3"
  },
  "language_info": {
   "codemirror_mode": {
    "name": "ipython",
    "version": 3
   },
   "file_extension": ".py",
   "mimetype": "text/x-python",
   "name": "python",
   "nbconvert_exporter": "python",
   "pygments_lexer": "ipython3",
   "version": "3.11.9"
  }
 },
 "nbformat": 4,
 "nbformat_minor": 2
}
