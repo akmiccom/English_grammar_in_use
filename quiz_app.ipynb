{
 "cells": [
  {
   "cell_type": "code",
   "execution_count": 1,
   "metadata": {},
   "outputs": [],
   "source": [
    "from quiz_app import question_English, question_Japanese"
   ]
  },
  {
   "cell_type": "code",
   "execution_count": 2,
   "metadata": {},
   "outputs": [
    {
     "name": "stdout",
     "output_type": "stream",
     "text": [
      "Q1 :  あなたがケビンにその話をしたとき、彼は何と言いましたか？\n",
      "Q2 :  xxxxo 雨が降っていなかったので、私たちは傘は必要ありませんでした。\n",
      "Q3 :  買い物に行きます。服を買うつもりです。\n",
      "Q4 :  エマはどこですか？彼女はまだここにいません。\n",
      "Q5 :  xxoo 彼らには子供がいません。\n",
      "Q6 :  彼はとても早く夕食を食べました。\n",
      "Q7 :  毎日時に仕事を終えます。\n",
      "Q8 :  来週、休暇に行くんだ。ああ、それはいいね。\n",
      "Q9 :  xooo 日曜日にどこにいましたか？見つけられませんでした。\n"
     ]
    }
   ],
   "source": [
    "question_Japanese(QUESTION_NUM=9, SLEEP_TIME=10)"
   ]
  },
  {
   "cell_type": "code",
   "execution_count": 3,
   "metadata": {},
   "outputs": [
    {
     "name": "stdout",
     "output_type": "stream",
     "text": [
      "Q1 :  I finish work at : every day.\n",
      "Q2 :  I don't want this book. You can have it\n",
      "Q3 :  What time is the concert tonight? It starts at :.\n",
      "Q4 :  What time do you have to go to the dentist tomorrow?\n",
      "Q5 :  Andrew is playing tennis tomorrow.\n",
      "Q6 :  Tom's father is in the hospital. Which hospital is he in?\n",
      "Q7 :  It's two miles from our house to downtown.\n",
      "Q8 :  Jack was reading a book when his phone rang.\n",
      "Q9 :  The table is in the middle of the room.\n"
     ]
    }
   ],
   "source": [
    "question_English(QUESTION_NUM=9, SLEEP_TIME=10)"
   ]
  }
 ],
 "metadata": {
  "kernelspec": {
   "display_name": "Python 3",
   "language": "python",
   "name": "python3"
  },
  "language_info": {
   "codemirror_mode": {
    "name": "ipython",
    "version": 3
   },
   "file_extension": ".py",
   "mimetype": "text/x-python",
   "name": "python",
   "nbconvert_exporter": "python",
   "pygments_lexer": "ipython3",
   "version": "3.11.9"
  }
 },
 "nbformat": 4,
 "nbformat_minor": 2
}
